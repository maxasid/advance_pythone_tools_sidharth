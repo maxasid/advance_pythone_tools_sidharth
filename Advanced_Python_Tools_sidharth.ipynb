{
 "cells": [
  {
   "cell_type": "markdown",
   "id": "0a016ddb",
   "metadata": {},
   "source": [
    "# Assignment 1 - Working with NumPy\n"
   ]
  },
  {
   "cell_type": "code",
   "execution_count": 1,
   "id": "7ff269fa",
   "metadata": {},
   "outputs": [],
   "source": [
    "import numpy as np"
   ]
  },
  {
   "cell_type": "markdown",
   "id": "a8c13b5c",
   "metadata": {},
   "source": [
    "### Task 1: 1D NumPy Array"
   ]
  },
  {
   "cell_type": "code",
   "execution_count": 2,
   "id": "47953973",
   "metadata": {},
   "outputs": [
    {
     "name": "stdout",
     "output_type": "stream",
     "text": [
      "Array: [ 1  2  3  4  5  6  7  8  9 10 11 12 13 14 15 16 17 18 19 20]\n",
      "Sum: 210\n",
      "Mean: 10.5\n",
      "Median: 10.5\n",
      "Standard Deviation: 5.766281297335398\n",
      "Indices of elements > 10: (array([10, 11, 12, 13, 14, 15, 16, 17, 18, 19]),)\n"
     ]
    }
   ],
   "source": [
    "arr = np.arange(1, 21)\n",
    "print('Array:', arr)\n",
    "print('Sum:', arr.sum())\n",
    "print('Mean:', arr.mean())\n",
    "print('Median:', np.median(arr))\n",
    "print('Standard Deviation:', arr.std())\n",
    "print('Indices of elements > 10:', np.where(arr > 10))"
   ]
  },
  {
   "cell_type": "markdown",
   "id": "6e4ee045",
   "metadata": {},
   "source": [
    "### Task 2: 2D Array Operations"
   ]
  },
  {
   "cell_type": "code",
   "execution_count": 3,
   "id": "61c7651b",
   "metadata": {},
   "outputs": [
    {
     "name": "stdout",
     "output_type": "stream",
     "text": [
      "Matrix:\n",
      " [[ 1  2  3  4]\n",
      " [ 5  6  7  8]\n",
      " [ 9 10 11 12]\n",
      " [13 14 15 16]]\n",
      "Transpose:\n",
      " [[ 1  5  9 13]\n",
      " [ 2  6 10 14]\n",
      " [ 3  7 11 15]\n",
      " [ 4  8 12 16]]\n",
      "Row-wise sum: [10 26 42 58]\n",
      "Column-wise sum: [28 32 36 40]\n"
     ]
    }
   ],
   "source": [
    "matrix = np.arange(1, 17).reshape(4, 4)\n",
    "print('Matrix:\\n', matrix)\n",
    "print('Transpose:\\n', matrix.T)\n",
    "print('Row-wise sum:', matrix.sum(axis=1))\n",
    "print('Column-wise sum:', matrix.sum(axis=0))"
   ]
  },
  {
   "cell_type": "markdown",
   "id": "8bd39acc",
   "metadata": {},
   "source": [
    "### Task 3: Operations on Random 3x3 Arrays"
   ]
  },
  {
   "cell_type": "code",
   "execution_count": 4,
   "id": "2c33497c",
   "metadata": {},
   "outputs": [
    {
     "name": "stdout",
     "output_type": "stream",
     "text": [
      "Array A:\n",
      " [[ 4  4 15]\n",
      " [14  7  7]\n",
      " [ 3  7  5]]\n",
      "Array B:\n",
      " [[ 7  8  2]\n",
      " [ 5  1 19]\n",
      " [10 20 10]]\n",
      "Addition:\n",
      " [[11 12 17]\n",
      " [19  8 26]\n",
      " [13 27 15]]\n",
      "Subtraction:\n",
      " [[ -3  -4  13]\n",
      " [  9   6 -12]\n",
      " [ -7 -13  -5]]\n",
      "Multiplication:\n",
      " [[ 28  32  30]\n",
      " [ 70   7 133]\n",
      " [ 30 140  50]]\n",
      "Dot Product:\n",
      " [[198 336 234]\n",
      " [203 259 231]\n",
      " [106 131 189]]\n"
     ]
    }
   ],
   "source": [
    "a = np.random.randint(1, 21, (3, 3))\n",
    "b = np.random.randint(1, 21, (3, 3))\n",
    "print('Array A:\\n', a)\n",
    "print('Array B:\\n', b)\n",
    "print('Addition:\\n', a + b)\n",
    "print('Subtraction:\\n', a - b)\n",
    "print('Multiplication:\\n', a * b)\n",
    "print('Dot Product:\\n', a.dot(b))"
   ]
  },
  {
   "cell_type": "markdown",
   "id": "34848740",
   "metadata": {},
   "source": [
    "### Task 4: Reshaping and Slicing"
   ]
  },
  {
   "cell_type": "code",
   "execution_count": 5,
   "id": "a84792d9",
   "metadata": {},
   "outputs": [
    {
     "name": "stdout",
     "output_type": "stream",
     "text": [
      "Reshaped Array:\n",
      " [[ 1  2  3  4]\n",
      " [ 5  6  7  8]\n",
      " [ 9 10 11 12]]\n",
      "First 2 rows & Last 2 columns:\n",
      " [[3 4]\n",
      " [7 8]]\n"
     ]
    }
   ],
   "source": [
    "one_d = np.arange(1, 13)\n",
    "reshaped = one_d.reshape(3, 4)\n",
    "print('Reshaped Array:\\n', reshaped)\n",
    "print('First 2 rows & Last 2 columns:\\n', reshaped[:2, -2:])"
   ]
  },
  {
   "cell_type": "markdown",
   "id": "4ede23f2",
   "metadata": {},
   "source": [
    "# Assignment 2 - Working with Pandas\n"
   ]
  },
  {
   "cell_type": "code",
   "execution_count": 7,
   "id": "c1132be5",
   "metadata": {},
   "outputs": [],
   "source": [
    "import pandas as pd"
   ]
  },
  {
   "cell_type": "markdown",
   "id": "519a83ef",
   "metadata": {},
   "source": [
    "### Task 1: Create DataFrame"
   ]
  },
  {
   "cell_type": "code",
   "execution_count": 8,
   "id": "60afae95",
   "metadata": {},
   "outputs": [
    {
     "name": "stdout",
     "output_type": "stream",
     "text": [
      "      Name  Age Department  Salary\n",
      "0    Alice   24         HR   45000\n",
      "1      Bob   27    Finance   54000\n",
      "2  Charlie   22         IT   50000\n",
      "3    Diana   32  Marketing   62000\n",
      "4      Eve   29         HR   47000\n",
      "\n",
      "Summary (Age & Salary):\n",
      "             Age        Salary\n",
      "count   5.000000      5.000000\n",
      "mean   26.800000  51600.000000\n",
      "std     3.962323   6730.527468\n",
      "min    22.000000  45000.000000\n",
      "25%    24.000000  47000.000000\n",
      "50%    27.000000  50000.000000\n",
      "75%    29.000000  54000.000000\n",
      "max    32.000000  62000.000000\n",
      "\n",
      "Avg HR Salary: 46000.0\n"
     ]
    }
   ],
   "source": [
    "data = {\n",
    "    'Name': ['Alice', 'Bob', 'Charlie', 'Diana', 'Eve'],\n",
    "    'Age': [24, 27, 22, 32, 29],\n",
    "    'Department': ['HR', 'Finance', 'IT', 'Marketing', 'HR'],\n",
    "    'Salary': [45000, 54000, 50000, 62000, 47000]\n",
    "}\n",
    "df = pd.DataFrame(data)\n",
    "print(df.head())\n",
    "print('\\nSummary (Age & Salary):')\n",
    "print(df[['Age', 'Salary']].describe())\n",
    "print('\\nAvg HR Salary:', df[df['Department'] == 'HR']['Salary'].mean())"
   ]
  },
  {
   "cell_type": "markdown",
   "id": "8fe9daa7",
   "metadata": {},
   "source": [
    "### Task 2: Add Bonus Column"
   ]
  },
  {
   "cell_type": "code",
   "execution_count": 9,
   "id": "29965498",
   "metadata": {},
   "outputs": [
    {
     "name": "stdout",
     "output_type": "stream",
     "text": [
      "      Name  Age Department  Salary   Bonus\n",
      "0    Alice   24         HR   45000  4500.0\n",
      "1      Bob   27    Finance   54000  5400.0\n",
      "2  Charlie   22         IT   50000  5000.0\n",
      "3    Diana   32  Marketing   62000  6200.0\n",
      "4      Eve   29         HR   47000  4700.0\n"
     ]
    }
   ],
   "source": [
    "df['Bonus'] = df['Salary'] * 0.10\n",
    "print(df)"
   ]
  },
  {
   "cell_type": "markdown",
   "id": "aa2e7dc0",
   "metadata": {},
   "source": [
    "### Task 3: Filter by Age 25-30"
   ]
  },
  {
   "cell_type": "code",
   "execution_count": 10,
   "id": "be7f6bd2",
   "metadata": {},
   "outputs": [
    {
     "name": "stdout",
     "output_type": "stream",
     "text": [
      "  Name  Age Department  Salary   Bonus\n",
      "1  Bob   27    Finance   54000  5400.0\n",
      "4  Eve   29         HR   47000  4700.0\n"
     ]
    }
   ],
   "source": [
    "filtered_df = df[(df['Age'] >= 25) & (df['Age'] <= 30)]\n",
    "print(filtered_df)"
   ]
  },
  {
   "cell_type": "markdown",
   "id": "b98f682f",
   "metadata": {},
   "source": [
    "### Task 4: Group by Department & Avg Salary"
   ]
  },
  {
   "cell_type": "code",
   "execution_count": 11,
   "id": "ef9da70c",
   "metadata": {},
   "outputs": [
    {
     "name": "stdout",
     "output_type": "stream",
     "text": [
      "Department\n",
      "Finance      54000.0\n",
      "HR           46000.0\n",
      "IT           50000.0\n",
      "Marketing    62000.0\n",
      "Name: Salary, dtype: float64\n"
     ]
    }
   ],
   "source": [
    "print(df.groupby('Department')['Salary'].mean())"
   ]
  },
  {
   "cell_type": "markdown",
   "id": "41e4ff70",
   "metadata": {},
   "source": [
    "### Task 5: Sort by Salary and Save to CSV"
   ]
  },
  {
   "cell_type": "code",
   "execution_count": 12,
   "id": "21f2dd1e",
   "metadata": {},
   "outputs": [
    {
     "name": "stdout",
     "output_type": "stream",
     "text": [
      "      Name  Age Department  Salary   Bonus\n",
      "0    Alice   24         HR   45000  4500.0\n",
      "4      Eve   29         HR   47000  4700.0\n",
      "2  Charlie   22         IT   50000  5000.0\n",
      "1      Bob   27    Finance   54000  5400.0\n",
      "3    Diana   32  Marketing   62000  6200.0\n"
     ]
    }
   ],
   "source": [
    "sorted_df = df.sort_values(by='Salary')\n",
    "print(sorted_df)\n",
    "sorted_df.to_csv('sorted_employees.csv', index=False)"
   ]
  },
  {
   "cell_type": "markdown",
   "id": "bf912424",
   "metadata": {},
   "source": [
    "# Assignment 3 - Working with Matplotlib\n"
   ]
  },
  {
   "cell_type": "code",
   "execution_count": 13,
   "id": "743957ba",
   "metadata": {},
   "outputs": [
    {
     "name": "stdout",
     "output_type": "stream",
     "text": [
      "Requirement already satisfied: matplotlib in c:\\users\\asus\\appdata\\local\\programs\\python\\python313\\lib\\site-packages (3.10.3)\n",
      "Requirement already satisfied: contourpy>=1.0.1 in c:\\users\\asus\\appdata\\local\\programs\\python\\python313\\lib\\site-packages (from matplotlib) (1.3.2)\n",
      "Requirement already satisfied: cycler>=0.10 in c:\\users\\asus\\appdata\\local\\programs\\python\\python313\\lib\\site-packages (from matplotlib) (0.12.1)\n",
      "Requirement already satisfied: fonttools>=4.22.0 in c:\\users\\asus\\appdata\\local\\programs\\python\\python313\\lib\\site-packages (from matplotlib) (4.58.5)\n",
      "Requirement already satisfied: kiwisolver>=1.3.1 in c:\\users\\asus\\appdata\\local\\programs\\python\\python313\\lib\\site-packages (from matplotlib) (1.4.8)\n",
      "Requirement already satisfied: numpy>=1.23 in c:\\users\\asus\\appdata\\local\\programs\\python\\python313\\lib\\site-packages (from matplotlib) (2.3.0)\n",
      "Requirement already satisfied: packaging>=20.0 in c:\\users\\asus\\appdata\\local\\programs\\python\\python313\\lib\\site-packages (from matplotlib) (25.0)\n",
      "Requirement already satisfied: pillow>=8 in c:\\users\\asus\\appdata\\local\\programs\\python\\python313\\lib\\site-packages (from matplotlib) (11.3.0)\n",
      "Requirement already satisfied: pyparsing>=2.3.1 in c:\\users\\asus\\appdata\\local\\programs\\python\\python313\\lib\\site-packages (from matplotlib) (3.2.3)\n",
      "Requirement already satisfied: python-dateutil>=2.7 in c:\\users\\asus\\appdata\\roaming\\python\\python313\\site-packages (from matplotlib) (2.9.0.post0)\n",
      "Requirement already satisfied: six>=1.5 in c:\\users\\asus\\appdata\\roaming\\python\\python313\\site-packages (from python-dateutil>=2.7->matplotlib) (1.17.0)\n"
     ]
    },
    {
     "name": "stderr",
     "output_type": "stream",
     "text": [
      "\n",
      "[notice] A new release of pip is available: 25.1.1 -> 25.2\n",
      "[notice] To update, run: python.exe -m pip install --upgrade pip\n"
     ]
    }
   ],
   "source": [
    "!pip install matplotlib"
   ]
  },
  {
   "cell_type": "code",
   "execution_count": 14,
   "id": "1fd0bef9",
   "metadata": {},
   "outputs": [],
   "source": [
    "import matplotlib.pyplot as plt"
   ]
  },
  {
   "cell_type": "markdown",
   "id": "b9001c1d",
   "metadata": {},
   "source": [
    "### Task 1: Line Plot"
   ]
  },
  {
   "cell_type": "code",
   "execution_count": 15,
   "id": "8c36bd2f",
   "metadata": {},
   "outputs": [
    {
     "data": {
      "image/png": "[encoded data removed]",
      "text/plain": [
       "<Figure size 640x480 with 1 Axes>"
      ]
     },
     "metadata": {},
     "output_type": "display_data"
    }
   ],
   "source": [
    "x = [1, 2, 3, 4, 5]\n",
    "y = [10, 15, 25, 30, 50]\n",
    "plt.plot(x, y, marker='o')\n",
    "plt.title('Line Plot')\n",
    "plt.xlabel('X-axis')\n",
    "plt.ylabel('Y-axis')\n",
    "plt.grid(True)\n",
    "plt.show()"
   ]
  },
  {
   "cell_type": "markdown",
   "id": "e20c0818",
   "metadata": {},
   "source": [
    "### Task 2: Bar Graph"
   ]
  },
  {
   "cell_type": "code",
   "execution_count": 16,
   "id": "e08b171a",
   "metadata": {},
   "outputs": [
    {
     "data": {
      "image/png": "[encoded data removed]",
      "text/plain": [
       "<Figure size 640x480 with 1 Axes>"
      ]
     },
     "metadata": {},
     "output_type": "display_data"
    }
   ],
   "source": [
    "students = ['John', 'Jane', 'Alice', 'Bob']\n",
    "marks = [75, 85, 60, 90]\n",
    "plt.bar(students, marks, color='skyblue')\n",
    "plt.title('Marks of Students')\n",
    "plt.ylabel('Marks')\n",
    "plt.show()"
   ]
  },
  {
   "cell_type": "markdown",
   "id": "c5e27db0",
   "metadata": {},
   "source": [
    "### Task 3: Pie Chart"
   ]
  },
  {
   "cell_type": "code",
   "execution_count": 17,
   "id": "510b9106",
   "metadata": {},
   "outputs": [
    {
     "data": {
      "image/png": "[encoded data removed]",
      "text/plain": [
       "<Figure size 640x480 with 1 Axes>"
      ]
     },
     "metadata": {},
     "output_type": "display_data"
    }
   ],
   "source": [
    "regions = ['North America', 'Europe', 'Asia', 'Others']\n",
    "revenue = [45, 25, 20, 10]\n",
    "explode = [0.1 if r == max(revenue) else 0 for r in revenue]\n",
    "plt.pie(revenue, labels=regions, autopct='%1.1f%%', explode=explode, startangle=140)\n",
    "plt.title('Company Revenue Distribution')\n",
    "plt.axis('equal')\n",
    "plt.show()"
   ]
  },
  {
   "cell_type": "markdown",
   "id": "264ac8f0",
   "metadata": {},
   "source": [
    "### Task 4: Histogram"
   ]
  },
  {
   "cell_type": "code",
   "execution_count": 18,
   "id": "f252e155",
   "metadata": {},
   "outputs": [
    {
     "data": {
      "image/png": "[encoded data removed]",
      "text/plain": [
       "<Figure size 640x480 with 1 Axes>"
      ]
     },
     "metadata": {},
     "output_type": "display_data"
    }
   ],
   "source": [
    "data = np.random.randint(1, 101, size=1000)\n",
    "plt.hist(data, bins=20, color='green', edgecolor='black')\n",
    "plt.title('Histogram of Random Integers')\n",
    "plt.xlabel('Value')\n",
    "plt.ylabel('Frequency')\n",
    "plt.show()"
   ]
  }
 ],
 "metadata": {
  "kernelspec": {
   "display_name": "Python 3",
   "language": "python",
   "name": "python3"
  },
  "language_info": {
   "codemirror_mode": {
    "name": "ipython",
    "version": 3
   },
   "file_extension": ".py",
   "mimetype": "text/x-python",
   "name": "python",
   "nbconvert_exporter": "python",
   "pygments_lexer": "ipython3",
   "version": "3.13.3"
  }
 },
 "nbformat": 4,
 "nbformat_minor": 5
}
